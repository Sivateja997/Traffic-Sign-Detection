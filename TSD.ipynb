{
 "cells": [
  {
   "cell_type": "markdown",
   "id": "770ad793",
   "metadata": {},
   "source": [
    "## import the required library"
   ]
  },
  {
   "cell_type": "code",
   "execution_count": 1,
   "id": "7d5e8a87",
   "metadata": {},
   "outputs": [],
   "source": [
    "import numpy as np\n",
    "import pandas as pd\n",
    "import matplotlib.pyplot as plt\n",
    "import cv2\n",
    "import tensorflow as tf\n",
    "from PIL import Image\n",
    "from sklearn.model_selection import train_test_split\n",
    "from tensorflow.keras.utils import to_categorical\n",
    "from keras.models import Sequential, load_model\n",
    "from keras.layers import Conv2D, MaxPool2D, Dense, Flatten, Dropout\n",
    "import os\n",
    "os.chdir(r'C:\\Users\\ksiva\\Downloads\\Triffic-Sign-Detection')"
   ]
  },
  {
   "cell_type": "markdown",
   "id": "d6149f94",
   "metadata": {},
   "source": [
    "## Store data, labels in the list"
   ]
  },
  {
   "cell_type": "code",
   "execution_count": 2,
   "id": "130d7e50",
   "metadata": {},
   "outputs": [],
   "source": [
    "data = []\n",
    "labels = []\n",
    "# We have 43 Classes\n",
    "classes = 43\n",
    "cur_path = os.getcwd()"
   ]
  },
  {
   "cell_type": "code",
   "execution_count": 3,
   "id": "0aa16112",
   "metadata": {},
   "outputs": [
    {
     "data": {
      "text/plain": [
       "'C:\\\\Users\\\\ksiva\\\\Downloads\\\\Triffic-Sign-Detection'"
      ]
     },
     "execution_count": 3,
     "metadata": {},
     "output_type": "execute_result"
    }
   ],
   "source": [
    "cur_path"
   ]
  },
  {
   "cell_type": "markdown",
   "id": "109e761d",
   "metadata": {},
   "source": [
    "## For each of the 43 types of traffic signs, we have around 50K photos. All of those photos must now be processed."
   ]
  },
  {
   "cell_type": "code",
   "execution_count": 4,
   "id": "f60974a6",
   "metadata": {},
   "outputs": [],
   "source": [
    "data =[]\n",
    "labels = []\n",
    "classes = 43 \n",
    "cur_path = os.getcwd()\n",
    "for i in range(classes):     \n",
    "    path = os.path.join(cur_path,'train',str(i))     \n",
    "    images = os.listdir(path)\n",
    "    for a in images:\n",
    "        try:             \n",
    "            image = Image.open(path +'\\\\'+ a)             \n",
    "            image = image.resize((30,30)) \n",
    "            # Resizing all images into 30*30                                                 \n",
    "            image =np.array(image)             \n",
    "            data.append(image)             \n",
    "            labels.append(i)\n",
    "        except Exceptionas as e:\n",
    "            print(e)"
   ]
  },
  {
   "cell_type": "markdown",
   "id": "c6a1c3f9",
   "metadata": {},
   "source": [
    "## convert the image data list into NumPy array"
   ]
  },
  {
   "cell_type": "code",
   "execution_count": 5,
   "id": "df1b09e9",
   "metadata": {},
   "outputs": [
    {
     "name": "stdout",
     "output_type": "stream",
     "text": [
      "(39209, 30, 30, 3) (39209,)\n"
     ]
    }
   ],
   "source": [
    "data = np.array(data)\n",
    "labels = np.array(labels)\n",
    "\n",
    "print(data.shape, labels.shape) "
   ]
  },
  {
   "cell_type": "markdown",
   "id": "f517527f",
   "metadata": {},
   "source": [
    "## Save Labels & Data for future use"
   ]
  },
  {
   "cell_type": "code",
   "execution_count": 8,
   "id": "3b4067ab",
   "metadata": {},
   "outputs": [],
   "source": [
    "#os.mkdir('training')\n",
    "\n",
    "np.save('./training/data',data)\n",
    "np.save('./training/target',labels)"
   ]
  },
  {
   "cell_type": "code",
   "execution_count": 9,
   "id": "b133a430",
   "metadata": {},
   "outputs": [],
   "source": [
    "X_train, X_test, y_train, y_test = train_test_split(data, labels, test_size=0.2, random_state=0)"
   ]
  },
  {
   "cell_type": "code",
   "execution_count": 10,
   "id": "c1ad8530",
   "metadata": {},
   "outputs": [
    {
     "name": "stdout",
     "output_type": "stream",
     "text": [
      "(31367, 30, 30, 3) (7842, 30, 30, 3) (31367,) (7842,)\n"
     ]
    }
   ],
   "source": [
    "print(X_train.shape, X_test.shape, y_train.shape, y_test.shape)"
   ]
  },
  {
   "cell_type": "markdown",
   "id": "4cfd1320",
   "metadata": {},
   "source": [
    "## Convert labels to onehot encoding"
   ]
  },
  {
   "cell_type": "code",
   "execution_count": 11,
   "id": "d370d560",
   "metadata": {},
   "outputs": [],
   "source": [
    "y_train = to_categorical(y_train, 43)\n",
    "y_test = to_categorical(y_test, 43)"
   ]
  },
  {
   "cell_type": "markdown",
   "id": "167a0195",
   "metadata": {},
   "source": [
    "## build the model"
   ]
  },
  {
   "cell_type": "code",
   "execution_count": 12,
   "id": "17a42adc",
   "metadata": {},
   "outputs": [],
   "source": [
    "model = Sequential()\n",
    "model.add(Conv2D(filters=32, kernel_size=(5,5), activation='relu', input_shape=X_train.shape[1:]))\n",
    "model.add(Conv2D(filters=32, kernel_size=(5,5), activation='relu'))\n",
    "model.add(MaxPool2D(pool_size=(2, 2)))\n",
    "model.add(Dropout(rate=0.25))\n",
    "model.add(Conv2D(filters=64, kernel_size=(3, 3), activation='relu'))\n",
    "model.add(Conv2D(filters=64, kernel_size=(3, 3), activation='relu'))\n",
    "model.add(MaxPool2D(pool_size=(2, 2)))\n",
    "model.add(Dropout(rate=0.25))\n",
    "model.add(Flatten())\n",
    "model.add(Dense(256, activation='relu'))\n",
    "model.add(Dropout(rate=0.5))\n",
    "# We have 43 classes that's why we have defined 43 in the dense\n",
    "model.add(Dense(43, activation='softmax'))"
   ]
  },
  {
   "cell_type": "code",
   "execution_count": 13,
   "id": "be812e86",
   "metadata": {},
   "outputs": [],
   "source": [
    "#Compilation of the model\n",
    "model.compile(loss='categorical_crossentropy', optimizer='adam', metrics=['accuracy'])"
   ]
  },
  {
   "cell_type": "code",
   "execution_count": 14,
   "id": "10ceb3bd",
   "metadata": {},
   "outputs": [
    {
     "name": "stdout",
     "output_type": "stream",
     "text": [
      "Epoch 1/20\n",
      "981/981 [==============================] - 33s 33ms/step - loss: 2.0602 - accuracy: 0.4734 - val_loss: 0.6448 - val_accuracy: 0.8481\n",
      "Epoch 2/20\n",
      "981/981 [==============================] - 32s 32ms/step - loss: 0.7531 - accuracy: 0.7819 - val_loss: 0.2580 - val_accuracy: 0.9350\n",
      "Epoch 3/20\n",
      "981/981 [==============================] - 38s 39ms/step - loss: 0.5148 - accuracy: 0.8477 - val_loss: 0.1770 - val_accuracy: 0.9499\n",
      "Epoch 4/20\n",
      "981/981 [==============================] - 40s 41ms/step - loss: 0.4391 - accuracy: 0.8695 - val_loss: 0.1288 - val_accuracy: 0.9640\n",
      "Epoch 5/20\n",
      "981/981 [==============================] - 40s 41ms/step - loss: 0.3578 - accuracy: 0.8971 - val_loss: 0.1103 - val_accuracy: 0.9695\n",
      "Epoch 6/20\n",
      "981/981 [==============================] - 40s 41ms/step - loss: 0.3449 - accuracy: 0.9016 - val_loss: 0.1208 - val_accuracy: 0.9688\n",
      "Epoch 7/20\n",
      "981/981 [==============================] - 42s 43ms/step - loss: 0.3316 - accuracy: 0.9096 - val_loss: 0.1052 - val_accuracy: 0.9733\n",
      "Epoch 8/20\n",
      "981/981 [==============================] - 36s 36ms/step - loss: 0.2901 - accuracy: 0.9195 - val_loss: 0.0733 - val_accuracy: 0.9787\n",
      "Epoch 9/20\n",
      "981/981 [==============================] - 35s 36ms/step - loss: 0.2678 - accuracy: 0.9243 - val_loss: 0.1024 - val_accuracy: 0.9713\n",
      "Epoch 10/20\n",
      "981/981 [==============================] - 33s 34ms/step - loss: 0.2795 - accuracy: 0.9245 - val_loss: 0.0576 - val_accuracy: 0.9838\n",
      "Epoch 11/20\n",
      "981/981 [==============================] - 33s 34ms/step - loss: 0.2621 - accuracy: 0.9283 - val_loss: 0.0905 - val_accuracy: 0.9732\n",
      "Epoch 12/20\n",
      "981/981 [==============================] - 33s 33ms/step - loss: 0.2700 - accuracy: 0.9268 - val_loss: 0.0805 - val_accuracy: 0.9772\n",
      "Epoch 13/20\n",
      "981/981 [==============================] - 42s 43ms/step - loss: 0.2643 - accuracy: 0.9297 - val_loss: 0.1294 - val_accuracy: 0.9631\n",
      "Epoch 14/20\n",
      "981/981 [==============================] - 36s 36ms/step - loss: 0.2520 - accuracy: 0.9317 - val_loss: 0.0788 - val_accuracy: 0.9770\n",
      "Epoch 15/20\n",
      "981/981 [==============================] - 35s 36ms/step - loss: 0.2416 - accuracy: 0.9366 - val_loss: 0.0624 - val_accuracy: 0.9809\n",
      "Epoch 16/20\n",
      "981/981 [==============================] - 36s 37ms/step - loss: 0.2712 - accuracy: 0.9279 - val_loss: 0.0853 - val_accuracy: 0.9742\n",
      "Epoch 17/20\n",
      "981/981 [==============================] - 36s 37ms/step - loss: 0.2240 - accuracy: 0.9417 - val_loss: 0.0460 - val_accuracy: 0.9871\n",
      "Epoch 18/20\n",
      "981/981 [==============================] - 35s 36ms/step - loss: 0.2319 - accuracy: 0.9388 - val_loss: 0.0549 - val_accuracy: 0.9860\n",
      "Epoch 19/20\n",
      "981/981 [==============================] - 35s 35ms/step - loss: 0.2444 - accuracy: 0.9344 - val_loss: 0.0759 - val_accuracy: 0.9793\n",
      "Epoch 20/20\n",
      "981/981 [==============================] - 36s 37ms/step - loss: 0.2428 - accuracy: 0.9367 - val_loss: 0.0726 - val_accuracy: 0.9796\n"
     ]
    }
   ],
   "source": [
    "epochs = 20\n",
    "history = model.fit(X_train, y_train, batch_size=32, epochs=epochs, validation_data=(X_test, y_test))"
   ]
  },
  {
   "cell_type": "code",
   "execution_count": 15,
   "id": "9e24dabd",
   "metadata": {},
   "outputs": [
    {
     "data": {
      "image/png": "[encoded data removed]",
      "text/plain": [
       "<Figure size 432x288 with 1 Axes>"
      ]
     },
     "metadata": {
      "needs_background": "light"
     },
     "output_type": "display_data"
    }
   ],
   "source": [
    "# accuracy \n",
    "plt.figure(0)\n",
    "plt.plot(history.history['accuracy'], label='training accuracy')\n",
    "plt.plot(history.history['val_accuracy'], label='val accuracy')\n",
    "plt.title('Accuracy')\n",
    "plt.xlabel('epochs')\n",
    "plt.ylabel('accuracy')\n",
    "plt.legend()\n",
    "plt.show()"
   ]
  },
  {
   "cell_type": "code",
   "execution_count": 16,
   "id": "1cdedc69",
   "metadata": {},
   "outputs": [
    {
     "data": {
      "image/png": "[encoded data removed]",
      "text/plain": [
       "<Figure size 432x288 with 1 Axes>"
      ]
     },
     "metadata": {
      "needs_background": "light"
     },
     "output_type": "display_data"
    }
   ],
   "source": [
    "# Loss\n",
    "plt.plot(history.history['loss'], label='training loss')\n",
    "plt.plot(history.history['val_loss'], label='val loss')\n",
    "plt.title('Loss')\n",
    "plt.xlabel('epochs')\n",
    "plt.ylabel('loss')\n",
    "plt.legend()\n",
    "plt.show()"
   ]
  },
  {
   "cell_type": "markdown",
   "id": "07a0c58c",
   "metadata": {},
   "source": [
    "## testing on Test data"
   ]
  },
  {
   "cell_type": "code",
   "execution_count": 17,
   "id": "842c027b",
   "metadata": {},
   "outputs": [],
   "source": [
    "def testing(testcsv):\n",
    "    y_test = pd.read_csv(testcsv)\n",
    "    label = y_test[\"ClassId\"].values\n",
    "    imgs = y_test[\"Path\"].values\n",
    "    data=[]\n",
    "    for img in imgs:\n",
    "        image = Image.open(img)\n",
    "        image = image.resize((30,30))\n",
    "        data.append(np.array(image))\n",
    "    X_test=np.array(data)\n",
    "    return X_test,label"
   ]
  },
  {
   "cell_type": "code",
   "execution_count": 18,
   "id": "ed603e66",
   "metadata": {},
   "outputs": [],
   "source": [
    "X_test, label = testing('Test.csv')"
   ]
  },
  {
   "cell_type": "code",
   "execution_count": 19,
   "id": "8eb7eb32",
   "metadata": {},
   "outputs": [
    {
     "data": {
      "text/plain": [
       "array([16,  1, 38, ..., 32,  7, 10], dtype=int64)"
      ]
     },
     "execution_count": 19,
     "metadata": {},
     "output_type": "execute_result"
    }
   ],
   "source": [
    "Y_pred = model.predict(X_test) \n",
    "Y_pred = np.argmax(Y_pred,axis=1)\n",
    "Y_pred"
   ]
  },
  {
   "cell_type": "code",
   "execution_count": null,
   "id": "d3f48a96",
   "metadata": {},
   "outputs": [],
   "source": [
    "#Scores\n",
    "scores = model.evaluate(X_test, y_test, verbose=1)\n",
    "print(\"Loss of the model is\", round(scores[0]*100, 2), '%')\n",
    "print(\"Accuracy of the model is\", round(scores[1]*100, 2), '%')"
   ]
  },
  {
   "cell_type": "code",
   "execution_count": null,
   "id": "0c0c4d90",
   "metadata": {},
   "outputs": [],
   "source": [
    "model.save(\"./training/TSD-trained.h5\")"
   ]
  }
 ],
 "metadata": {
  "kernelspec": {
   "display_name": "Python 3 (ipykernel)",
   "language": "python",
   "name": "python3"
  },
  "language_info": {
   "codemirror_mode": {
    "name": "ipython",
    "version": 3
   },
   "file_extension": ".py",
   "mimetype": "text/x-python",
   "name": "python",
   "nbconvert_exporter": "python",
   "pygments_lexer": "ipython3",
   "version": "3.9.7"
  }
 },
 "nbformat": 4,
 "nbformat_minor": 5
}
